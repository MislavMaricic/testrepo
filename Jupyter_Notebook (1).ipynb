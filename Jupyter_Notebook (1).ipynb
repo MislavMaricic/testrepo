{
 "cells": [
  {
   "cell_type": "markdown",
   "metadata": {},
   "source": [
    "<center>\n",
    "    <img src=\"https://cf-courses-data.s3.us.cloud-object-storage.appdomain.cloud/IBMDeveloperSkillsNetwork-DS0105EN-SkillsNetwork/labs/Module2/images/SN_web_lightmode.png\" width=\"300\" alt=\"cognitiveclass.ai logo\"  />\n",
    "</center>\n"
   ]
  },
  {
   "cell_type": "markdown",
   "metadata": {},
   "source": [
    "#### Add your code below following the instructions given in the course\n"
   ]
  },
  {
   "cell_type": "markdown",
   "metadata": {},
   "source": [
    "<head>\n",
    "  <h1>My Jupyter Notebook on IBM Watson Studio</h1>\n",
    "</head>"
   ]
  },
  {
   "cell_type": "markdown",
   "metadata": {},
   "source": [
    "<b>Mislav Maričić</b><br>\n",
    "<p>Campaign management expert"
   ]
  },
  {
   "cell_type": "markdown",
   "metadata": {},
   "source": [
    "<em>I am interested in data science because I live analyzing data, trying to make sense of it, making predicitons etc.</em>"
   ]
  },
  {
   "cell_type": "markdown",
   "metadata": {},
   "source": [
    "<head>\n",
    "  <h3>Code below asks you to enter two numbers and then select a math operation to be done on those two numbers. In case of a wrong input \"Error!\" is printed</h1>\n",
    "</head>"
   ]
  },
  {
   "cell_type": "code",
   "execution_count": null,
   "metadata": {},
   "outputs": [],
   "source": [
    "x = int(input(\"Enter first number: \"))\n",
    "y = int(input(\"Enter second number: \"))\n",
    "operation = input(\"Enter operation (+ , - , * or /): \")\n",
    "\n",
    "if operation == \"+\":\n",
    "    print(\"Result: \", x+y)\n",
    "elif operation == \"-\":\n",
    "    print(\"Result: \", x-y)\n",
    "elif operation == \"*\":\n",
    "    print(\"Result: \", x*y)\n",
    "elif operation == \"/\":\n",
    "    print(\"Result: \", x/y)\n",
    "else:\n",
    "    print(\"Error!\")"
   ]
  },
  {
   "cell_type": "markdown",
   "metadata": {},
   "source": [
    "<html>\n",
    "  <body>\n",
    "    <h1>HTML</h1>\n",
    "    <hr>\n",
    "    <h2>Bulleted List</h2>\n",
    "    <ul>\n",
    "      <li>Apple</li>\n",
    "      <li>Banana</li>\n",
    "      <li>Orange</li>\n",
    "    </ul>\n",
    "    <h2>Numbered List</h2>\n",
    "    <ol>\n",
    "      <li>Car</li>\n",
    "      <li>Bus</li>\n",
    "      <li>Plane</li>\n",
    "    </ol>\n",
    "    <h2>Table</h2>\n",
    "    <table>\n",
    "      <tr>\n",
    "        <th>Name</th>\n",
    "        <th>Age</th>\n",
    "      </tr>\n",
    "      <tr>\n",
    "        <td>Mislav</td>\n",
    "        <td>28</td>\n",
    "      </tr>\n",
    "      <tr>\n",
    "        <td>Antonija</td>\n",
    "        <td>27</td>\n",
    "      </tr>\n",
    "    </table>\n",
    "    <h2>Hyperlink</h2>\n",
    "    <a href=\"https://google.com/\">Google website</a>\n",
    "    <h2>Blockquote</h2>\n",
    "    <blockquote>\n",
    "      Google is the biggest search engine on the planet?\n",
    "    </blockquote>\n",
    "    <h2>Strikethrough</h2>\n",
    "    <p><s>This is an example of strikethrough text</s></p>\n",
    "  </body>\n",
    "</html>\n"
   ]
  }
 ],
 "metadata": {
  "kernelspec": {
   "display_name": "Python",
   "language": "python",
   "name": "conda-env-python-py"
  },
  "language_info": {
   "codemirror_mode": {
    "name": "ipython",
    "version": 3
   },
   "file_extension": ".py",
   "mimetype": "text/x-python",
   "name": "python",
   "nbconvert_exporter": "python",
   "pygments_lexer": "ipython3",
   "version": "3.7.6"
  }
 },
 "nbformat": 4,
 "nbformat_minor": 4
}
